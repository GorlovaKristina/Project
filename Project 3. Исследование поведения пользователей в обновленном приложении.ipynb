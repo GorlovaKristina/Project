{
 "cells": [
  {
   "attachments": {},
   "cell_type": "markdown",
   "metadata": {},
   "source": [
    "## ЦЕЛЬ:\n",
    "Исследовать поведение пользователей в обновлённом приложении."
   ]
  },
  {
   "attachments": {},
   "cell_type": "markdown",
   "metadata": {},
   "source": [
    "## Гипотезы:\n",
    "1) Существует разница в поведении групп, которые проходят и не проходят обучение.\n",
    "2) Повторное прохождение обучения положительно влияет на оплату.\n",
    "3) Если пользователь сначала выбирает сложность обучения, то обучение он после этого не проходит."
   ]
  },
  {
   "attachments": {},
   "cell_type": "markdown",
   "metadata": {},
   "source": [
    "## ЗАДАЧИ:\n",
    "1) Определить, насколько обучение сокращает время прохождения этапов игры.\n",
    "2) Доказать, что успешное обучение само по себе влияет на оплату и не имеет значения то, каким этапом оно шло.\n",
    "3) Определить, насколько прозрачен процесс взаимодействия с игрой."
   ]
  },
  {
   "cell_type": "code",
   "execution_count": 1,
   "metadata": {},
   "outputs": [],
   "source": [
    "# получение данных\n",
    "import pandas as pd\n",
    "import numpy as np\n",
    "import matplotlib\n",
    "import matplotlib.pyplot as plt\n",
    "events = pd.read_csv ('P3_Events.csv')\n",
    "purchase = pd.read_csv ('P3_Purchase.csv')"
   ]
  },
  {
   "attachments": {},
   "cell_type": "markdown",
   "metadata": {},
   "source": [
    "## Преобразование и фильтрация данных для дальнейшего анализа"
   ]
  },
  {
   "cell_type": "code",
   "execution_count": 2,
   "metadata": {},
   "outputs": [],
   "source": [
    "# Перевод данных в datatime\n",
    "purchase['event_datetime'] = pd.to_datetime(purchase['event_datetime'],format='%Y-%m-%dT%H:%M:%S',errors='coerce')\n",
    "events['start_time'] = pd.to_datetime(events['start_time'],format='%Y-%m-%dT%H:%M:%S',errors='coerce')"
   ]
  },
  {
   "cell_type": "code",
   "execution_count": 3,
   "metadata": {},
   "outputs": [],
   "source": [
    "# Маска для фильтрации пользователей, зарегистрировавшихся в 2018 году\n",
    "mask = (events['start_time'].dt.year == 2018) & (events.event_type == 'registration')"
   ]
  },
  {
   "cell_type": "code",
   "execution_count": 4,
   "metadata": {},
   "outputs": [],
   "source": [
    "# Список id пользователей, зарегистрировавшихся в 2018 году\n",
    "reglist = events[mask]['user_id'].to_list()"
   ]
  },
  {
   "cell_type": "code",
   "execution_count": 5,
   "metadata": {},
   "outputs": [],
   "source": [
    "# Фильтрация таблицы с событиями по пользователям, зарегистрировавшимся в 2018 году \n",
    "FiltredEvents = events[events['user_id'].isin(reglist)]\n",
    "# Переименование названия столбца для дальнейшего объединения\n",
    "FiltredEvents = FiltredEvents.rename(columns={\"id\": \"event_id\"})"
   ]
  },
  {
   "cell_type": "code",
   "execution_count": 6,
   "metadata": {},
   "outputs": [],
   "source": [
    "# Фильтрация таблицы с покупками по пользователям, зарегистрировавшимся в 2018 году\n",
    "FiltredPurchase = purchase[purchase['user_id'].isin(reglist)].copy()\n",
    "# Добавление типа события\n",
    "FiltredPurchase['event_type'] = 'purchase'\n",
    "# Переименование названия столбцов для дальнейшего объединения\n",
    "FiltredPurchase = FiltredPurchase.rename(columns={\"id\": \"purchase_id\", \"event_datetime\": \"start_time\"})"
   ]
  },
  {
   "cell_type": "code",
   "execution_count": 7,
   "metadata": {},
   "outputs": [],
   "source": [
    "# Объединение таблиц с событиями и покупками\n",
    "TotalEvents = pd.concat([FiltredEvents,FiltredPurchase],sort=False)\n",
    "TotalEvents = TotalEvents.reset_index(drop=True).sort_values('start_time')"
   ]
  },
  {
   "attachments": {},
   "cell_type": "markdown",
   "metadata": {},
   "source": [
    "## Проверка гипотезы 1. О том, что существует разница в поведении групп, которые проходят и не проходят обучение.\n",
    "Сравнение времени прохождения этапов игры для пользователей, которые завершили обучение, и пользователей, не начинавших обучение."
   ]
  },
  {
   "attachments": {},
   "cell_type": "markdown",
   "metadata": {},
   "source": [
    "Начнем с анализа времени на прохождение этапов игры пользователями, завершившими обучение"
   ]
  },
  {
   "cell_type": "code",
   "execution_count": 8,
   "metadata": {},
   "outputs": [],
   "source": [
    "# создаем маску для фильтрации пользователей по критерию завершения обучения\n",
    "mask2 = (TotalEvents.event_type == 'tutorial_finish')\n",
    "# создаем список id пользователей, завершивших обучение\n",
    "tutorial_finish_list = TotalEvents[mask2]['user_id'].to_list()\n",
    "# создаем таблицу с действиями пользователей, завершивших обучение\n",
    "FinishedTutorialEvents = TotalEvents[TotalEvents['user_id'].isin(tutorial_finish_list)]"
   ]
  },
  {
   "cell_type": "code",
   "execution_count": 9,
   "metadata": {},
   "outputs": [
    {
     "name": "stdout",
     "output_type": "stream",
     "text": [
      "10250 пользователей завершили обучение\n"
     ]
    }
   ],
   "source": [
    "# уточняем количество пользователей, завершивших обучение\n",
    "print(FinishedTutorialEvents.user_id.nunique(), 'пользователей завершили обучение')"
   ]
  },
  {
   "attachments": {},
   "cell_type": "markdown",
   "metadata": {},
   "source": [
    "Мы знаем, что пользователь может начать и закончить обучение несколько раз, но для проверки первой гипотезы данный факт мы опустим, беря в учет только минимальные значения времени начала и окончания обучения каждого пользователя"
   ]
  },
  {
   "cell_type": "code",
   "execution_count": 10,
   "metadata": {},
   "outputs": [
    {
     "data": {
      "text/html": [
       "<div>\n",
       "<style scoped>\n",
       "    .dataframe tbody tr th:only-of-type {\n",
       "        vertical-align: middle;\n",
       "    }\n",
       "\n",
       "    .dataframe tbody tr th {\n",
       "        vertical-align: top;\n",
       "    }\n",
       "\n",
       "    .dataframe thead th {\n",
       "        text-align: right;\n",
       "    }\n",
       "</style>\n",
       "<table border=\"1\" class=\"dataframe\">\n",
       "  <thead>\n",
       "    <tr style=\"text-align: right;\">\n",
       "      <th>event_type</th>\n",
       "      <th>level_choice</th>\n",
       "      <th>pack_choice</th>\n",
       "      <th>purchase</th>\n",
       "      <th>registration</th>\n",
       "      <th>tutorial_finish</th>\n",
       "      <th>tutorial_start</th>\n",
       "    </tr>\n",
       "    <tr>\n",
       "      <th>user_id</th>\n",
       "      <th></th>\n",
       "      <th></th>\n",
       "      <th></th>\n",
       "      <th></th>\n",
       "      <th></th>\n",
       "      <th></th>\n",
       "    </tr>\n",
       "  </thead>\n",
       "  <tbody>\n",
       "    <tr>\n",
       "      <th>27833</th>\n",
       "      <td>NaT</td>\n",
       "      <td>NaT</td>\n",
       "      <td>NaT</td>\n",
       "      <td>2018-01-01 04:07:25</td>\n",
       "      <td>2018-01-01 17:50:08</td>\n",
       "      <td>2018-01-01 17:47:40</td>\n",
       "    </tr>\n",
       "    <tr>\n",
       "      <th>27834</th>\n",
       "      <td>NaT</td>\n",
       "      <td>NaT</td>\n",
       "      <td>NaT</td>\n",
       "      <td>2018-01-01 08:35:10</td>\n",
       "      <td>2018-01-01 19:48:01</td>\n",
       "      <td>2018-01-01 19:46:11</td>\n",
       "    </tr>\n",
       "    <tr>\n",
       "      <th>27835</th>\n",
       "      <td>2018-01-01 20:37:22</td>\n",
       "      <td>2018-01-01 20:38:43</td>\n",
       "      <td>NaT</td>\n",
       "      <td>2018-01-01 11:54:47</td>\n",
       "      <td>2018-01-01 15:06:15</td>\n",
       "      <td>2018-01-01 15:00:51</td>\n",
       "    </tr>\n",
       "    <tr>\n",
       "      <th>27836</th>\n",
       "      <td>NaT</td>\n",
       "      <td>NaT</td>\n",
       "      <td>NaT</td>\n",
       "      <td>2018-01-01 13:28:07</td>\n",
       "      <td>2018-01-01 15:42:58</td>\n",
       "      <td>2018-01-01 14:54:40</td>\n",
       "    </tr>\n",
       "    <tr>\n",
       "      <th>27839</th>\n",
       "      <td>2018-01-01 22:37:50</td>\n",
       "      <td>2018-01-01 22:42:54</td>\n",
       "      <td>NaT</td>\n",
       "      <td>2018-01-01 18:24:01</td>\n",
       "      <td>2018-01-01 19:16:32</td>\n",
       "      <td>2018-01-01 19:11:36</td>\n",
       "    </tr>\n",
       "  </tbody>\n",
       "</table>\n",
       "</div>"
      ],
      "text/plain": [
       "event_type        level_choice         pack_choice purchase  \\\n",
       "user_id                                                       \n",
       "27833                      NaT                 NaT      NaT   \n",
       "27834                      NaT                 NaT      NaT   \n",
       "27835      2018-01-01 20:37:22 2018-01-01 20:38:43      NaT   \n",
       "27836                      NaT                 NaT      NaT   \n",
       "27839      2018-01-01 22:37:50 2018-01-01 22:42:54      NaT   \n",
       "\n",
       "event_type        registration     tutorial_finish      tutorial_start  \n",
       "user_id                                                                 \n",
       "27833      2018-01-01 04:07:25 2018-01-01 17:50:08 2018-01-01 17:47:40  \n",
       "27834      2018-01-01 08:35:10 2018-01-01 19:48:01 2018-01-01 19:46:11  \n",
       "27835      2018-01-01 11:54:47 2018-01-01 15:06:15 2018-01-01 15:00:51  \n",
       "27836      2018-01-01 13:28:07 2018-01-01 15:42:58 2018-01-01 14:54:40  \n",
       "27839      2018-01-01 18:24:01 2018-01-01 19:16:32 2018-01-01 19:11:36  "
      ]
     },
     "execution_count": 10,
     "metadata": {},
     "output_type": "execute_result"
    }
   ],
   "source": [
    "# создаем сводную таблицу, в которой отображается минимальное время каждого этапа для конкретного пользователя\n",
    "FinishedTutorial_pivot = FinishedTutorialEvents.pivot_table(\n",
    "    values = 'start_time',\n",
    "    index = 'user_id',\n",
    "    columns = 'event_type',\n",
    "    aggfunc = 'min'\n",
    ")\n",
    "# проверяем как выглядит сводная\n",
    "FinishedTutorial_pivot.head()"
   ]
  },
  {
   "cell_type": "code",
   "execution_count": 11,
   "metadata": {},
   "outputs": [],
   "source": [
    "# добавляем столбцы со временем прохождения этапов\n",
    "FinishedTutorial_pivot['delta1'] = FinishedTutorial_pivot.tutorial_start - FinishedTutorial_pivot.registration\n",
    "FinishedTutorial_pivot['delta2'] = FinishedTutorial_pivot.tutorial_finish - FinishedTutorial_pivot.tutorial_start\n",
    "FinishedTutorial_pivot['delta3'] = FinishedTutorial_pivot.level_choice - FinishedTutorial_pivot.tutorial_finish\n",
    "FinishedTutorial_pivot['delta4'] = FinishedTutorial_pivot.pack_choice - FinishedTutorial_pivot.level_choice\n",
    "FinishedTutorial_pivot['delta5'] = FinishedTutorial_pivot.purchase - FinishedTutorial_pivot.pack_choice\n",
    "FinishedTutorial_pivot['delta6'] = FinishedTutorial_pivot.purchase - FinishedTutorial_pivot.registration"
   ]
  },
  {
   "cell_type": "code",
   "execution_count": 12,
   "metadata": {},
   "outputs": [
    {
     "data": {
      "text/html": [
       "<div>\n",
       "<style scoped>\n",
       "    .dataframe tbody tr th:only-of-type {\n",
       "        vertical-align: middle;\n",
       "    }\n",
       "\n",
       "    .dataframe tbody tr th {\n",
       "        vertical-align: top;\n",
       "    }\n",
       "\n",
       "    .dataframe thead th {\n",
       "        text-align: right;\n",
       "    }\n",
       "</style>\n",
       "<table border=\"1\" class=\"dataframe\">\n",
       "  <thead>\n",
       "    <tr style=\"text-align: right;\">\n",
       "      <th>event_type</th>\n",
       "      <th>registration</th>\n",
       "      <th>delta1</th>\n",
       "      <th>tutorial_start</th>\n",
       "      <th>delta2</th>\n",
       "      <th>tutorial_finish</th>\n",
       "      <th>delta3</th>\n",
       "      <th>level_choice</th>\n",
       "      <th>delta4</th>\n",
       "      <th>pack_choice</th>\n",
       "      <th>delta5</th>\n",
       "      <th>purchase</th>\n",
       "      <th>delta6</th>\n",
       "      <th>group</th>\n",
       "    </tr>\n",
       "    <tr>\n",
       "      <th>user_id</th>\n",
       "      <th></th>\n",
       "      <th></th>\n",
       "      <th></th>\n",
       "      <th></th>\n",
       "      <th></th>\n",
       "      <th></th>\n",
       "      <th></th>\n",
       "      <th></th>\n",
       "      <th></th>\n",
       "      <th></th>\n",
       "      <th></th>\n",
       "      <th></th>\n",
       "      <th></th>\n",
       "    </tr>\n",
       "  </thead>\n",
       "  <tbody>\n",
       "    <tr>\n",
       "      <th>27833</th>\n",
       "      <td>2018-01-01 04:07:25</td>\n",
       "      <td>0 days 13:40:15</td>\n",
       "      <td>2018-01-01 17:47:40</td>\n",
       "      <td>0 days 00:02:28</td>\n",
       "      <td>2018-01-01 17:50:08</td>\n",
       "      <td>NaT</td>\n",
       "      <td>NaT</td>\n",
       "      <td>NaT</td>\n",
       "      <td>NaT</td>\n",
       "      <td>NaT</td>\n",
       "      <td>NaT</td>\n",
       "      <td>NaT</td>\n",
       "      <td>Прошедшие обучение</td>\n",
       "    </tr>\n",
       "    <tr>\n",
       "      <th>27834</th>\n",
       "      <td>2018-01-01 08:35:10</td>\n",
       "      <td>0 days 11:11:01</td>\n",
       "      <td>2018-01-01 19:46:11</td>\n",
       "      <td>0 days 00:01:50</td>\n",
       "      <td>2018-01-01 19:48:01</td>\n",
       "      <td>NaT</td>\n",
       "      <td>NaT</td>\n",
       "      <td>NaT</td>\n",
       "      <td>NaT</td>\n",
       "      <td>NaT</td>\n",
       "      <td>NaT</td>\n",
       "      <td>NaT</td>\n",
       "      <td>Прошедшие обучение</td>\n",
       "    </tr>\n",
       "    <tr>\n",
       "      <th>27835</th>\n",
       "      <td>2018-01-01 11:54:47</td>\n",
       "      <td>0 days 03:06:04</td>\n",
       "      <td>2018-01-01 15:00:51</td>\n",
       "      <td>0 days 00:05:24</td>\n",
       "      <td>2018-01-01 15:06:15</td>\n",
       "      <td>0 days 05:31:07</td>\n",
       "      <td>2018-01-01 20:37:22</td>\n",
       "      <td>0 days 00:01:21</td>\n",
       "      <td>2018-01-01 20:38:43</td>\n",
       "      <td>NaT</td>\n",
       "      <td>NaT</td>\n",
       "      <td>NaT</td>\n",
       "      <td>Прошедшие обучение</td>\n",
       "    </tr>\n",
       "    <tr>\n",
       "      <th>27836</th>\n",
       "      <td>2018-01-01 13:28:07</td>\n",
       "      <td>0 days 01:26:33</td>\n",
       "      <td>2018-01-01 14:54:40</td>\n",
       "      <td>0 days 00:48:18</td>\n",
       "      <td>2018-01-01 15:42:58</td>\n",
       "      <td>NaT</td>\n",
       "      <td>NaT</td>\n",
       "      <td>NaT</td>\n",
       "      <td>NaT</td>\n",
       "      <td>NaT</td>\n",
       "      <td>NaT</td>\n",
       "      <td>NaT</td>\n",
       "      <td>Прошедшие обучение</td>\n",
       "    </tr>\n",
       "    <tr>\n",
       "      <th>27839</th>\n",
       "      <td>2018-01-01 18:24:01</td>\n",
       "      <td>0 days 00:47:35</td>\n",
       "      <td>2018-01-01 19:11:36</td>\n",
       "      <td>0 days 00:04:56</td>\n",
       "      <td>2018-01-01 19:16:32</td>\n",
       "      <td>0 days 03:21:18</td>\n",
       "      <td>2018-01-01 22:37:50</td>\n",
       "      <td>0 days 00:05:04</td>\n",
       "      <td>2018-01-01 22:42:54</td>\n",
       "      <td>NaT</td>\n",
       "      <td>NaT</td>\n",
       "      <td>NaT</td>\n",
       "      <td>Прошедшие обучение</td>\n",
       "    </tr>\n",
       "  </tbody>\n",
       "</table>\n",
       "</div>"
      ],
      "text/plain": [
       "event_type        registration          delta1      tutorial_start  \\\n",
       "user_id                                                              \n",
       "27833      2018-01-01 04:07:25 0 days 13:40:15 2018-01-01 17:47:40   \n",
       "27834      2018-01-01 08:35:10 0 days 11:11:01 2018-01-01 19:46:11   \n",
       "27835      2018-01-01 11:54:47 0 days 03:06:04 2018-01-01 15:00:51   \n",
       "27836      2018-01-01 13:28:07 0 days 01:26:33 2018-01-01 14:54:40   \n",
       "27839      2018-01-01 18:24:01 0 days 00:47:35 2018-01-01 19:11:36   \n",
       "\n",
       "event_type          delta2     tutorial_finish          delta3  \\\n",
       "user_id                                                          \n",
       "27833      0 days 00:02:28 2018-01-01 17:50:08             NaT   \n",
       "27834      0 days 00:01:50 2018-01-01 19:48:01             NaT   \n",
       "27835      0 days 00:05:24 2018-01-01 15:06:15 0 days 05:31:07   \n",
       "27836      0 days 00:48:18 2018-01-01 15:42:58             NaT   \n",
       "27839      0 days 00:04:56 2018-01-01 19:16:32 0 days 03:21:18   \n",
       "\n",
       "event_type        level_choice          delta4         pack_choice delta5  \\\n",
       "user_id                                                                     \n",
       "27833                      NaT             NaT                 NaT    NaT   \n",
       "27834                      NaT             NaT                 NaT    NaT   \n",
       "27835      2018-01-01 20:37:22 0 days 00:01:21 2018-01-01 20:38:43    NaT   \n",
       "27836                      NaT             NaT                 NaT    NaT   \n",
       "27839      2018-01-01 22:37:50 0 days 00:05:04 2018-01-01 22:42:54    NaT   \n",
       "\n",
       "event_type purchase delta6               group  \n",
       "user_id                                         \n",
       "27833           NaT    NaT  Прошедшие обучение  \n",
       "27834           NaT    NaT  Прошедшие обучение  \n",
       "27835           NaT    NaT  Прошедшие обучение  \n",
       "27836           NaT    NaT  Прошедшие обучение  \n",
       "27839           NaT    NaT  Прошедшие обучение  "
      ]
     },
     "execution_count": 12,
     "metadata": {},
     "output_type": "execute_result"
    }
   ],
   "source": [
    "# создаем таблицу с корректным порядком столбцов \n",
    "FinishedTutorial_sorted = FinishedTutorial_pivot[[\n",
    "    'registration', 'delta1', 'tutorial_start', 'delta2', 'tutorial_finish', 'delta3',\n",
    "    'level_choice', 'delta4', 'pack_choice', 'delta5', 'purchase', 'delta6'\n",
    "]].copy()\n",
    "# добавляем столбец-определитель группы пользователей для работы с данными таблицы после дальнейшего объединения\n",
    "FinishedTutorial_sorted['group'] = 'Прошедшие обучение'\n",
    "FinishedTutorial_sorted.head()"
   ]
  },
  {
   "cell_type": "code",
   "execution_count": 13,
   "metadata": {},
   "outputs": [
    {
     "name": "stdout",
     "output_type": "stream",
     "text": [
      "Среднее время от регистрации пользователя до начала обучения составляет 0 days 04:31:04.938146341\n",
      "Среднее время от начала обучения до его завершения составляет 0 days 00:12:13.823121951\n",
      "Среднее время от завершения обучения до выбора пользователем уровня сложности составляет 0 days 02:19:46.959472070\n",
      "Среднее время от выбора пользователем уровня сложности до выбора пакета вопросов 0 days 00:05:18.146058732\n",
      "Среднее время от выбора пользователем пакета вопросов до покупки платного пакета вопросов 3 days 17:17:59.641326883\n",
      "Среднее время на прохождение всех этапов пользователем составляет 4 days 00:30:03.247408431\n",
      "Среднее время на прохождение каждого этапа пользователем составляет 0 days 19:18:00.649481686\n"
     ]
    }
   ],
   "source": [
    "# высчитываем средние показатели времени прохождения этапов\n",
    "print('Среднее время от регистрации пользователя до начала обучения составляет', FinishedTutorial_sorted.delta1.mean())\n",
    "print('Среднее время от начала обучения до его завершения составляет', FinishedTutorial_sorted.delta2.mean())\n",
    "print('Среднее время от завершения обучения до выбора пользователем уровня сложности составляет', FinishedTutorial_sorted.delta3.mean())\n",
    "print('Среднее время от выбора пользователем уровня сложности до выбора пакета вопросов', FinishedTutorial_sorted.delta4.mean())\n",
    "print('Среднее время от выбора пользователем пакета вопросов до покупки платного пакета вопросов', FinishedTutorial_sorted.delta5.mean())\n",
    "print('Среднее время на прохождение всех этапов пользователем составляет', FinishedTutorial_sorted.delta6.mean())\n",
    "print('Среднее время на прохождение каждого этапа пользователем составляет', \n",
    "      ((FinishedTutorial_sorted.delta1 + FinishedTutorial_sorted.delta2 + FinishedTutorial_sorted.delta3 + FinishedTutorial_sorted.delta4\n",
    "       +FinishedTutorial_sorted.delta5)/5).mean())"
   ]
  },
  {
   "attachments": {},
   "cell_type": "markdown",
   "metadata": {},
   "source": [
    "Далее анализируем время прохождения этапов пользователями, никогда не начинавшими обучение"
   ]
  },
  {
   "cell_type": "code",
   "execution_count": 14,
   "metadata": {},
   "outputs": [],
   "source": [
    "# создаем маску для фильтрации пользователей по критерию начала обучения\n",
    "mask3 = (TotalEvents.event_type == 'tutorial_start')\n",
    "# создаем список id пользователей, начинавших обучение\n",
    "tutorial_start_list = TotalEvents[mask3]['user_id'].to_list()\n",
    "# создаем таблицу с действиями пользователей, никогда не начинавших обучение\n",
    "NoStartTutorialEvents = TotalEvents[~TotalEvents['user_id'].isin(tutorial_start_list)]"
   ]
  },
  {
   "cell_type": "code",
   "execution_count": 15,
   "metadata": {},
   "outputs": [
    {
     "name": "stdout",
     "output_type": "stream",
     "text": [
      "8068 пользователей никогда не начинали обучение\n"
     ]
    }
   ],
   "source": [
    "# уточняем количество пользователей, завершивших обучение\n",
    "print(NoStartTutorialEvents.user_id.nunique(), 'пользователей никогда не начинали обучение')"
   ]
  },
  {
   "attachments": {},
   "cell_type": "markdown",
   "metadata": {},
   "source": [
    "Мы знаем, что пользователь может начать и закончить обучение несколько раз, но для проверки первой гипотезы данный факт мы опустим, беря в учет только минимальные значения времени начала и окончания обучения каждого пользователя"
   ]
  },
  {
   "cell_type": "code",
   "execution_count": 16,
   "metadata": {},
   "outputs": [
    {
     "data": {
      "text/html": [
       "<div>\n",
       "<style scoped>\n",
       "    .dataframe tbody tr th:only-of-type {\n",
       "        vertical-align: middle;\n",
       "    }\n",
       "\n",
       "    .dataframe tbody tr th {\n",
       "        vertical-align: top;\n",
       "    }\n",
       "\n",
       "    .dataframe thead th {\n",
       "        text-align: right;\n",
       "    }\n",
       "</style>\n",
       "<table border=\"1\" class=\"dataframe\">\n",
       "  <thead>\n",
       "    <tr style=\"text-align: right;\">\n",
       "      <th>event_type</th>\n",
       "      <th>level_choice</th>\n",
       "      <th>pack_choice</th>\n",
       "      <th>purchase</th>\n",
       "      <th>registration</th>\n",
       "    </tr>\n",
       "    <tr>\n",
       "      <th>user_id</th>\n",
       "      <th></th>\n",
       "      <th></th>\n",
       "      <th></th>\n",
       "      <th></th>\n",
       "    </tr>\n",
       "  </thead>\n",
       "  <tbody>\n",
       "    <tr>\n",
       "      <th>27832</th>\n",
       "      <td>NaT</td>\n",
       "      <td>NaT</td>\n",
       "      <td>NaT</td>\n",
       "      <td>2018-01-01 03:48:40</td>\n",
       "    </tr>\n",
       "    <tr>\n",
       "      <th>27837</th>\n",
       "      <td>NaT</td>\n",
       "      <td>NaT</td>\n",
       "      <td>NaT</td>\n",
       "      <td>2018-01-01 14:08:40</td>\n",
       "    </tr>\n",
       "    <tr>\n",
       "      <th>27838</th>\n",
       "      <td>NaT</td>\n",
       "      <td>NaT</td>\n",
       "      <td>NaT</td>\n",
       "      <td>2018-01-01 14:42:58</td>\n",
       "    </tr>\n",
       "    <tr>\n",
       "      <th>27844</th>\n",
       "      <td>NaT</td>\n",
       "      <td>NaT</td>\n",
       "      <td>NaT</td>\n",
       "      <td>2018-01-02 00:13:22</td>\n",
       "    </tr>\n",
       "    <tr>\n",
       "      <th>27848</th>\n",
       "      <td>NaT</td>\n",
       "      <td>NaT</td>\n",
       "      <td>NaT</td>\n",
       "      <td>2018-01-02 06:05:02</td>\n",
       "    </tr>\n",
       "  </tbody>\n",
       "</table>\n",
       "</div>"
      ],
      "text/plain": [
       "event_type level_choice pack_choice purchase        registration\n",
       "user_id                                                         \n",
       "27832               NaT         NaT      NaT 2018-01-01 03:48:40\n",
       "27837               NaT         NaT      NaT 2018-01-01 14:08:40\n",
       "27838               NaT         NaT      NaT 2018-01-01 14:42:58\n",
       "27844               NaT         NaT      NaT 2018-01-02 00:13:22\n",
       "27848               NaT         NaT      NaT 2018-01-02 06:05:02"
      ]
     },
     "execution_count": 16,
     "metadata": {},
     "output_type": "execute_result"
    }
   ],
   "source": [
    "# создаем сводную таблицу, в которой отображается минимальное время каждого этапа для конкретного пользователя\n",
    "NoStartTutorial_pivot = NoStartTutorialEvents.pivot_table(\n",
    "    values = 'start_time',\n",
    "    index = 'user_id',\n",
    "    columns = 'event_type',\n",
    "    aggfunc = 'min'\n",
    ")\n",
    "# проверяем как выглядит сводная\n",
    "NoStartTutorial_pivot.head()"
   ]
  },
  {
   "cell_type": "code",
   "execution_count": 17,
   "metadata": {},
   "outputs": [],
   "source": [
    "# добавляем столбцы со временем прохождения этапов\n",
    "NoStartTutorial_pivot['delta1'] = NoStartTutorial_pivot.level_choice - NoStartTutorial_pivot.registration\n",
    "NoStartTutorial_pivot['delta4'] = NoStartTutorial_pivot.pack_choice - NoStartTutorial_pivot.level_choice\n",
    "NoStartTutorial_pivot['delta5'] = NoStartTutorial_pivot.purchase - NoStartTutorial_pivot.pack_choice\n",
    "NoStartTutorial_pivot['delta6'] = NoStartTutorial_pivot.purchase - NoStartTutorial_pivot.registration"
   ]
  },
  {
   "cell_type": "code",
   "execution_count": 18,
   "metadata": {},
   "outputs": [
    {
     "data": {
      "text/html": [
       "<div>\n",
       "<style scoped>\n",
       "    .dataframe tbody tr th:only-of-type {\n",
       "        vertical-align: middle;\n",
       "    }\n",
       "\n",
       "    .dataframe tbody tr th {\n",
       "        vertical-align: top;\n",
       "    }\n",
       "\n",
       "    .dataframe thead th {\n",
       "        text-align: right;\n",
       "    }\n",
       "</style>\n",
       "<table border=\"1\" class=\"dataframe\">\n",
       "  <thead>\n",
       "    <tr style=\"text-align: right;\">\n",
       "      <th>event_type</th>\n",
       "      <th>registration</th>\n",
       "      <th>delta1</th>\n",
       "      <th>level_choice</th>\n",
       "      <th>delta4</th>\n",
       "      <th>pack_choice</th>\n",
       "      <th>delta5</th>\n",
       "      <th>purchase</th>\n",
       "      <th>delta6</th>\n",
       "      <th>group</th>\n",
       "    </tr>\n",
       "    <tr>\n",
       "      <th>user_id</th>\n",
       "      <th></th>\n",
       "      <th></th>\n",
       "      <th></th>\n",
       "      <th></th>\n",
       "      <th></th>\n",
       "      <th></th>\n",
       "      <th></th>\n",
       "      <th></th>\n",
       "      <th></th>\n",
       "    </tr>\n",
       "  </thead>\n",
       "  <tbody>\n",
       "    <tr>\n",
       "      <th>27832</th>\n",
       "      <td>2018-01-01 03:48:40</td>\n",
       "      <td>NaT</td>\n",
       "      <td>NaT</td>\n",
       "      <td>NaT</td>\n",
       "      <td>NaT</td>\n",
       "      <td>NaT</td>\n",
       "      <td>NaT</td>\n",
       "      <td>NaT</td>\n",
       "      <td>Не начинавшие обучение</td>\n",
       "    </tr>\n",
       "    <tr>\n",
       "      <th>27837</th>\n",
       "      <td>2018-01-01 14:08:40</td>\n",
       "      <td>NaT</td>\n",
       "      <td>NaT</td>\n",
       "      <td>NaT</td>\n",
       "      <td>NaT</td>\n",
       "      <td>NaT</td>\n",
       "      <td>NaT</td>\n",
       "      <td>NaT</td>\n",
       "      <td>Не начинавшие обучение</td>\n",
       "    </tr>\n",
       "    <tr>\n",
       "      <th>27838</th>\n",
       "      <td>2018-01-01 14:42:58</td>\n",
       "      <td>NaT</td>\n",
       "      <td>NaT</td>\n",
       "      <td>NaT</td>\n",
       "      <td>NaT</td>\n",
       "      <td>NaT</td>\n",
       "      <td>NaT</td>\n",
       "      <td>NaT</td>\n",
       "      <td>Не начинавшие обучение</td>\n",
       "    </tr>\n",
       "    <tr>\n",
       "      <th>27844</th>\n",
       "      <td>2018-01-02 00:13:22</td>\n",
       "      <td>NaT</td>\n",
       "      <td>NaT</td>\n",
       "      <td>NaT</td>\n",
       "      <td>NaT</td>\n",
       "      <td>NaT</td>\n",
       "      <td>NaT</td>\n",
       "      <td>NaT</td>\n",
       "      <td>Не начинавшие обучение</td>\n",
       "    </tr>\n",
       "    <tr>\n",
       "      <th>27848</th>\n",
       "      <td>2018-01-02 06:05:02</td>\n",
       "      <td>NaT</td>\n",
       "      <td>NaT</td>\n",
       "      <td>NaT</td>\n",
       "      <td>NaT</td>\n",
       "      <td>NaT</td>\n",
       "      <td>NaT</td>\n",
       "      <td>NaT</td>\n",
       "      <td>Не начинавшие обучение</td>\n",
       "    </tr>\n",
       "  </tbody>\n",
       "</table>\n",
       "</div>"
      ],
      "text/plain": [
       "event_type        registration delta1 level_choice delta4 pack_choice delta5  \\\n",
       "user_id                                                                        \n",
       "27832      2018-01-01 03:48:40    NaT          NaT    NaT         NaT    NaT   \n",
       "27837      2018-01-01 14:08:40    NaT          NaT    NaT         NaT    NaT   \n",
       "27838      2018-01-01 14:42:58    NaT          NaT    NaT         NaT    NaT   \n",
       "27844      2018-01-02 00:13:22    NaT          NaT    NaT         NaT    NaT   \n",
       "27848      2018-01-02 06:05:02    NaT          NaT    NaT         NaT    NaT   \n",
       "\n",
       "event_type purchase delta6                   group  \n",
       "user_id                                             \n",
       "27832           NaT    NaT  Не начинавшие обучение  \n",
       "27837           NaT    NaT  Не начинавшие обучение  \n",
       "27838           NaT    NaT  Не начинавшие обучение  \n",
       "27844           NaT    NaT  Не начинавшие обучение  \n",
       "27848           NaT    NaT  Не начинавшие обучение  "
      ]
     },
     "execution_count": 18,
     "metadata": {},
     "output_type": "execute_result"
    }
   ],
   "source": [
    "# создаем таблицу с корректным порядком столбцов\n",
    "NoStartTutorial_sorted = NoStartTutorial_pivot[[\n",
    "    'registration', 'delta1', 'level_choice', 'delta4', 'pack_choice', 'delta5', 'purchase', 'delta6'\n",
    "]].copy()\n",
    "# добавляем столбец-определитель группы пользователей для работы с данными таблицы после дальнейшего объединения\n",
    "NoStartTutorial_sorted['group'] = 'Не начинавшие обучение'\n",
    "NoStartTutorial_sorted.head()"
   ]
  },
  {
   "cell_type": "code",
   "execution_count": 19,
   "metadata": {},
   "outputs": [
    {
     "name": "stdout",
     "output_type": "stream",
     "text": [
      "Среднее время от регистрации пользователя до выбора пользователем уровня сложности составляет 0 days 05:15:33.122448979\n",
      "Среднее время от выбора пользователем уровня сложности до выбора пакета вопросов 0 days 00:05:23.824324324\n",
      "Среднее время от выбора пользователем пакета вопросов до покупки платного пакета вопросов 4 days 04:49:33.590909090\n",
      "Среднее время на прохождение всех этапов пользователем составляет 4 days 09:06:01.909090909\n",
      "Среднее время на прохождение каждого этапа пользователем составляет 1 days 11:02:00.636363636\n"
     ]
    }
   ],
   "source": [
    "# высчитываем средние показатели времени прохождения этапов\n",
    "print('Среднее время от регистрации пользователя до выбора пользователем уровня сложности составляет', NoStartTutorial_sorted.delta1.mean())\n",
    "print('Среднее время от выбора пользователем уровня сложности до выбора пакета вопросов', NoStartTutorial_sorted.delta4.mean())\n",
    "print('Среднее время от выбора пользователем пакета вопросов до покупки платного пакета вопросов', NoStartTutorial_sorted.delta5.mean())\n",
    "print('Среднее время на прохождение всех этапов пользователем составляет', \n",
    "      (NoStartTutorial_sorted.purchase-NoStartTutorial_sorted.registration).mean())\n",
    "print('Среднее время на прохождение каждого этапа пользователем составляет', \n",
    "      ((NoStartTutorial_sorted.delta1 + NoStartTutorial_sorted.delta4 + NoStartTutorial_sorted.delta5)/3).mean())"
   ]
  },
  {
   "cell_type": "code",
   "execution_count": 20,
   "metadata": {},
   "outputs": [
    {
     "name": "stdout",
     "output_type": "stream",
     "text": [
      "В среднем пользователи, завершившие обучение, переходят от регистрации до начала обучения 0 days 00:44:28.184302638 быстрее, чем пользователи, не начинавшие обучение переходят от регистрации до выбора уровня сложности\n",
      "В среднем пользователи, завершившие обучение, переходят от выбора уровня сложности до выбора пакетов на 0 days 00:00:05.678265592 быстрее пользователей, не начинавших обучение\n",
      "В среднем пользователи, завершившие обучение, переходят от выбора пакетов до покупки пакетов на 0 days 11:31:33.949582207 быстрее пользователей, не начинавших обучение\n",
      "В среднем пользователи, завершившие обучение, тратят на прохождение всех этапов на 0 days 08:35:58.661682478 меньше пользователей, никогда обучение не проходивших\n"
     ]
    }
   ],
   "source": [
    "# вычисляем различие между временем прохождения этапов для групп пользователей, проходивших и не проходивших обучение\n",
    "print('В среднем пользователи, завершившие обучение, переходят от регистрации до начала обучения', \n",
    "      (NoStartTutorial_sorted.delta1.mean()-FinishedTutorial_sorted.delta1.mean()), 'быстрее, чем пользователи, не начинавшие обучение '\n",
    "      'переходят от регистрации до выбора уровня сложности')\n",
    "print('В среднем пользователи, завершившие обучение, переходят от выбора уровня сложности до выбора пакетов на', \n",
    "      (NoStartTutorial_sorted.delta4.mean()-FinishedTutorial_sorted.delta4.mean()), 'быстрее пользователей, не начинавших обучение')\n",
    "print('В среднем пользователи, завершившие обучение, переходят от выбора пакетов до покупки пакетов на', \n",
    "      (NoStartTutorial_sorted.delta5.mean()-FinishedTutorial_sorted.delta5.mean()), 'быстрее пользователей, не начинавших обучение')\n",
    "print('В среднем пользователи, завершившие обучение, тратят на прохождение всех этапов на', \n",
    "      (NoStartTutorial_sorted.delta6.mean()- FinishedTutorial_sorted.delta6.mean()), 'меньше пользователей, никогда обучение не проходивших')"
   ]
  },
  {
   "attachments": {},
   "cell_type": "markdown",
   "metadata": {},
   "source": [
    "Для удобства визуализации, соединим две таблицы и проводим дальнейшую обработку"
   ]
  },
  {
   "cell_type": "code",
   "execution_count": 21,
   "metadata": {},
   "outputs": [],
   "source": [
    "TotaldeltaEvents = pd.concat([FinishedTutorial_sorted, NoStartTutorial_sorted],sort=False)\n",
    "TotaldeltaEvents = TotaldeltaEvents.reset_index(drop=True).sort_values('registration')\n",
    "TotaldeltaEvents.delta1 = TotaldeltaEvents.delta1/pd.Timedelta('1 hour')\n",
    "TotaldeltaEvents.delta4 = TotaldeltaEvents.delta4/pd.Timedelta('1 hour')\n",
    "TotaldeltaEvents.delta5 = TotaldeltaEvents.delta5/pd.Timedelta('1 hour')\n",
    "TotaldeltaEvents.delta6 = TotaldeltaEvents.delta6/pd.Timedelta('1 hour')"
   ]
  },
  {
   "attachments": {},
   "cell_type": "markdown",
   "metadata": {},
   "source": [
    "## Строим визуализацию"
   ]
  },
  {
   "cell_type": "code",
   "execution_count": 22,
   "metadata": {},
   "outputs": [
    {
     "data": {
      "image/png": "[encoded data removed]",
      "text/plain": [
       "<Figure size 1000x600 with 4 Axes>"
      ]
     },
     "metadata": {},
     "output_type": "display_data"
    }
   ],
   "source": [
    "# построим визуализацию сравнительных данных\n",
    "grouped_delta = TotaldeltaEvents.groupby(['group'])[['delta1','delta4','delta5', 'delta6']].mean()\n",
    "fig, axes = plt.subplots(nrows=2, ncols=2, figsize=(10, 6))\n",
    "fig = plt.tight_layout(pad=0.4, w_pad=0.5, h_pad=3.0)\n",
    "# столбчатая диаграмма со временем прохождения 1 этапа\n",
    "axes[0,0].bar(x=grouped_delta.index, \n",
    "    height=grouped_delta.delta1,\n",
    "    color='deepskyblue'\n",
    ")\n",
    "axes[0,0].set_title('Время от выбора уровня до начала обучения/выбора уровня сложности, в часах', fontsize = 7);\n",
    "# столбчатая диаграмма со временем прохождения 4 этапа\n",
    "axes[1,0].bar(x=grouped_delta.index, \n",
    "    height=grouped_delta.delta4,\n",
    "    color='navy'\n",
    ")\n",
    "axes[1,0].set_title('Время от выбора уровня сложности до выбора пакета вопросов, в часах', fontsize = 7);\n",
    "# столбчатая диаграмма со временем прохождения 5 этапа\n",
    "axes[0,1].bar(x=grouped_delta.index, \n",
    "    height=grouped_delta.delta5,\n",
    "    color='indigo'\n",
    ")\n",
    "axes[0,1].set_title('Время от выбора пакета вопросов до покупки платных пакетов, в часах', fontsize = 7);\n",
    "# столбчатая диаграмма со временем прохождения всего пути\n",
    "axes[1,1].bar(x=grouped_delta.index, \n",
    "    height=grouped_delta.delta6,\n",
    "    color='darkgreen'\n",
    ")\n",
    "axes[1,1].set_title('Время на весь путь пользователя в игре, в часах', fontsize = 7);\n"
   ]
  },
  {
   "attachments": {},
   "cell_type": "markdown",
   "metadata": {},
   "source": [
    "## Вывод:\n",
    "Гипотеза №1 верна, разница в поведении групп, которые проходят обучение и не проходят существует. \n",
    "1) Этап от регистрации до начала обучения в группе, которая завершила обучение, равный этапу от регистрации до выбора уровня сложности в группе, никогда\n",
    "не проходившей обучение, в группе, которая завершила обучение, длится в среднем на 44 минуты меньше.\n",
    "2) Этап от выбора уровня сложности, до выбора бесплатных пакетов в группе, завершившей обучение, длится в среднем на 5 секунд меньше.\n",
    "3) Этап от выбора бесплатных пакетов до покупки платных в группе, завершившей обучение, длится в среднем на 11 часов 30 минут меньше.\n",
    "4) В среднем, группа пользователей, завершивших обучение, тратит на прохождение всех этапов на 8 часов 35 минут меньше, чем группа пользователей, никогда не проходивших обучение."
   ]
  },
  {
   "attachments": {},
   "cell_type": "markdown",
   "metadata": {},
   "source": [
    "## Проверка гипотезы 2. О влиянии повторного прохождения обучения на оплату.\n",
    "Рассмотрим влияение количества попыток начала обучения на покупку платных пакетов."
   ]
  },
  {
   "cell_type": "code",
   "execution_count": 23,
   "metadata": {},
   "outputs": [],
   "source": [
    "# создаем сводную таблицу по количеству совершенных каждым пользователем действий,\n",
    "# на основании таблицы с действиями пользователей, зарегистрировавшихся в 2018 году\n",
    "UserActions = TotalEvents.pivot_table(\n",
    "    values= 'start_time',\n",
    "    index= 'user_id',\n",
    "    columns= 'event_type',\n",
    "    aggfunc= 'count'\n",
    ").fillna(0)"
   ]
  },
  {
   "cell_type": "code",
   "execution_count": 24,
   "metadata": {},
   "outputs": [],
   "source": [
    "# для расчета выручки с каждой группы сгруппируем таблицу по затратам каждого пользователя\n",
    "revenue_by_users = TotalEvents.groupby('user_id')['amount'].sum()\n",
    "# добавим столбец с затратами по каждому пользователю в сводную\n",
    "UserActions_with_revenue = UserActions.merge(revenue_by_users, on = 'user_id')"
   ]
  },
  {
   "cell_type": "code",
   "execution_count": 25,
   "metadata": {},
   "outputs": [
    {
     "data": {
      "text/html": [
       "<div>\n",
       "<style scoped>\n",
       "    .dataframe tbody tr th:only-of-type {\n",
       "        vertical-align: middle;\n",
       "    }\n",
       "\n",
       "    .dataframe tbody tr th {\n",
       "        vertical-align: top;\n",
       "    }\n",
       "\n",
       "    .dataframe thead th {\n",
       "        text-align: right;\n",
       "    }\n",
       "</style>\n",
       "<table border=\"1\" class=\"dataframe\">\n",
       "  <thead>\n",
       "    <tr style=\"text-align: right;\">\n",
       "      <th></th>\n",
       "      <th>purchase</th>\n",
       "      <th>registration</th>\n",
       "      <th>mean_amount</th>\n",
       "      <th>sum_amount</th>\n",
       "      <th>conversion_rate</th>\n",
       "    </tr>\n",
       "    <tr>\n",
       "      <th>tutorial_start</th>\n",
       "      <th></th>\n",
       "      <th></th>\n",
       "      <th></th>\n",
       "      <th></th>\n",
       "      <th></th>\n",
       "    </tr>\n",
       "  </thead>\n",
       "  <tbody>\n",
       "    <tr>\n",
       "      <th>0.0</th>\n",
       "      <td>22.0</td>\n",
       "      <td>8068</td>\n",
       "      <td>0.350149</td>\n",
       "      <td>2825.0</td>\n",
       "      <td>0.272682</td>\n",
       "    </tr>\n",
       "    <tr>\n",
       "      <th>1.0</th>\n",
       "      <td>1207.0</td>\n",
       "      <td>9103</td>\n",
       "      <td>14.552895</td>\n",
       "      <td>132475.0</td>\n",
       "      <td>13.259365</td>\n",
       "    </tr>\n",
       "    <tr>\n",
       "      <th>2.0</th>\n",
       "      <td>218.0</td>\n",
       "      <td>1589</td>\n",
       "      <td>15.701699</td>\n",
       "      <td>24950.0</td>\n",
       "      <td>13.719320</td>\n",
       "    </tr>\n",
       "    <tr>\n",
       "      <th>3.0</th>\n",
       "      <td>51.0</td>\n",
       "      <td>427</td>\n",
       "      <td>13.290398</td>\n",
       "      <td>5675.0</td>\n",
       "      <td>11.943794</td>\n",
       "    </tr>\n",
       "    <tr>\n",
       "      <th>4.0</th>\n",
       "      <td>30.0</td>\n",
       "      <td>221</td>\n",
       "      <td>13.348416</td>\n",
       "      <td>2950.0</td>\n",
       "      <td>13.574661</td>\n",
       "    </tr>\n",
       "    <tr>\n",
       "      <th>5.0</th>\n",
       "      <td>16.0</td>\n",
       "      <td>109</td>\n",
       "      <td>17.889908</td>\n",
       "      <td>1950.0</td>\n",
       "      <td>14.678899</td>\n",
       "    </tr>\n",
       "    <tr>\n",
       "      <th>6.0</th>\n",
       "      <td>14.0</td>\n",
       "      <td>116</td>\n",
       "      <td>14.439655</td>\n",
       "      <td>1675.0</td>\n",
       "      <td>12.068966</td>\n",
       "    </tr>\n",
       "    <tr>\n",
       "      <th>7.0</th>\n",
       "      <td>12.0</td>\n",
       "      <td>94</td>\n",
       "      <td>14.095745</td>\n",
       "      <td>1325.0</td>\n",
       "      <td>12.765957</td>\n",
       "    </tr>\n",
       "    <tr>\n",
       "      <th>8.0</th>\n",
       "      <td>13.0</td>\n",
       "      <td>86</td>\n",
       "      <td>15.697674</td>\n",
       "      <td>1350.0</td>\n",
       "      <td>15.116279</td>\n",
       "    </tr>\n",
       "    <tr>\n",
       "      <th>9.0</th>\n",
       "      <td>17.0</td>\n",
       "      <td>113</td>\n",
       "      <td>17.699115</td>\n",
       "      <td>2000.0</td>\n",
       "      <td>15.044248</td>\n",
       "    </tr>\n",
       "  </tbody>\n",
       "</table>\n",
       "</div>"
      ],
      "text/plain": [
       "                purchase  registration  mean_amount  sum_amount  \\\n",
       "tutorial_start                                                    \n",
       "0.0                 22.0          8068     0.350149      2825.0   \n",
       "1.0               1207.0          9103    14.552895    132475.0   \n",
       "2.0                218.0          1589    15.701699     24950.0   \n",
       "3.0                 51.0           427    13.290398      5675.0   \n",
       "4.0                 30.0           221    13.348416      2950.0   \n",
       "5.0                 16.0           109    17.889908      1950.0   \n",
       "6.0                 14.0           116    14.439655      1675.0   \n",
       "7.0                 12.0            94    14.095745      1325.0   \n",
       "8.0                 13.0            86    15.697674      1350.0   \n",
       "9.0                 17.0           113    17.699115      2000.0   \n",
       "\n",
       "                conversion_rate  \n",
       "tutorial_start                   \n",
       "0.0                    0.272682  \n",
       "1.0                   13.259365  \n",
       "2.0                   13.719320  \n",
       "3.0                   11.943794  \n",
       "4.0                   13.574661  \n",
       "5.0                   14.678899  \n",
       "6.0                   12.068966  \n",
       "7.0                   12.765957  \n",
       "8.0                   15.116279  \n",
       "9.0                   15.044248  "
      ]
     },
     "metadata": {},
     "output_type": "display_data"
    }
   ],
   "source": [
    "# строим сводную таблицу с количеством оплат пакетов пользователей, сгруппированных по количеству попыток начала обучения\n",
    "purchase_by_group = UserActions[['tutorial_start', 'purchase']].pivot_table(\n",
    "    values= 'purchase',\n",
    "    index= 'tutorial_start',\n",
    "    aggfunc= 'sum',\n",
    ")\n",
    "# строим сводную таблицу с количеством регистраций пользователей, сгруппированных по количеству попыток начала обучения, для получения их численности\n",
    "registration_by_group = UserActions[['tutorial_start', 'registration']].pivot_table(\n",
    "    values= 'registration',\n",
    "    index= 'tutorial_start',\n",
    "    aggfunc= 'count',\n",
    ")\n",
    "# строим сводную таблицу с выручкой от пользователей, сгруппированных по количеству попыток начала обучения\n",
    "revenue_by_group = UserActions_with_revenue[['tutorial_start', 'amount']].pivot_table(\n",
    "    values= 'amount',\n",
    "    index= 'tutorial_start',\n",
    "    aggfunc= 'mean',\n",
    ")\n",
    "# строим сводную таблицу с выручкой от пользователей, сгруппированных по количеству попыток начала обучения\n",
    "sum_revenue_by_group = UserActions_with_revenue[['tutorial_start', 'amount']].pivot_table(\n",
    "    values= 'amount',\n",
    "    index= 'tutorial_start',\n",
    "    aggfunc= 'sum',\n",
    ")\n",
    "# переименовываем столбец - показателя средней выручки с группы пользователей\n",
    "revenue_by_group = revenue_by_group.rename(columns = {'amount':'mean_amount'})\n",
    "sum_revenue_by_group = sum_revenue_by_group.rename(columns = {'amount':'sum_amount'})\n",
    "# объединяем таблицы\n",
    "purchase_and_registration_by_group = purchase_by_group.merge(registration_by_group, on = 'tutorial_start')\n",
    "purchase_amount_and_registration_by_group = purchase_and_registration_by_group.merge(revenue_by_group, on = 'tutorial_start')\n",
    "purchase_amount2_and_registration_by_group = purchase_amount_and_registration_by_group.merge(sum_revenue_by_group, on = 'tutorial_start')\n",
    "# добавляем столбец с конверсией поведения пользователей\n",
    "purchase_amount2_and_registration_by_group['conversion_rate'] = (purchase_and_registration_by_group.purchase/\n",
    "                                                                purchase_and_registration_by_group.registration)*100\n",
    "display(purchase_amount2_and_registration_by_group)"
   ]
  },
  {
   "attachments": {},
   "cell_type": "markdown",
   "metadata": {},
   "source": [
    "## Строим визуализации"
   ]
  },
  {
   "cell_type": "code",
   "execution_count": 26,
   "metadata": {},
   "outputs": [
    {
     "data": {
      "image/png": "[encoded data removed]",
      "text/plain": [
       "<Figure size 1000x300 with 1 Axes>"
      ]
     },
     "metadata": {},
     "output_type": "display_data"
    }
   ],
   "source": [
    "#визуализация графика\n",
    "fig = plt.figure(figsize=(10, 3))\n",
    "axes = fig.add_axes([0, 0, 1, 1])\n",
    "# столбчатая диаграмма с вероятностью покупки платных пакетов пользователями по группам\n",
    "axes.bar(x=purchase_amount2_and_registration_by_group.index, \n",
    "    height=purchase_amount2_and_registration_by_group.conversion_rate,\n",
    "    color='blue'\n",
    ")\n",
    "axes.set_xticks(purchase_amount2_and_registration_by_group.index)\n",
    "axes.set_title('Вероятность оплаты пакетов пользователями по количеству раз начала обучения', fontsize = 12)\n",
    "axes.set_xlabel('Количество раз начала обучения')\n",
    "axes.set_ylabel('Конверсия от группы пользователей, %');"
   ]
  },
  {
   "cell_type": "code",
   "execution_count": 27,
   "metadata": {},
   "outputs": [
    {
     "data": {
      "image/png": "[encoded data removed]",
      "text/plain": [
       "<Figure size 1000x300 with 1 Axes>"
      ]
     },
     "metadata": {},
     "output_type": "display_data"
    }
   ],
   "source": [
    "#визуализация графика\n",
    "fig = plt.figure(figsize=(10, 3))\n",
    "axes = fig.add_axes([0, 0, 1, 1])\n",
    "# столбчатая диаграмма со средним чеком на пользователя по группам\n",
    "axes.bar(x=purchase_amount2_and_registration_by_group.index, \n",
    "    height=purchase_amount2_and_registration_by_group.mean_amount,\n",
    "    color='green'\n",
    ")\n",
    "axes.set_xticks(purchase_amount2_and_registration_by_group.index)\n",
    "axes.set_title('Средняя выручка на пользователя по группам', fontsize = 12)\n",
    "axes.set_xlabel('Количество раз начала обучения')\n",
    "axes.set_ylabel('Средняя выручка');"
   ]
  },
  {
   "cell_type": "code",
   "execution_count": 28,
   "metadata": {},
   "outputs": [
    {
     "data": {
      "image/png": "[encoded data removed]",
      "text/plain": [
       "<Figure size 500x500 with 1 Axes>"
      ]
     },
     "metadata": {},
     "output_type": "display_data"
    }
   ],
   "source": [
    "#визуализация графика\n",
    "fig = plt.figure(figsize=(5, 5))\n",
    "axes = fig.add_axes([0, 0, 1, 1])\n",
    "# визуализация графика о соотношении общей выручки с разных групп пользователей\n",
    "axes.pie(\n",
    "    x = purchase_amount2_and_registration_by_group.sum_amount,\n",
    "    labels=purchase_amount2_and_registration_by_group.index,\n",
    "    autopct='%.1f%%',\n",
    "    explode = [0, 0, 0, 0, 0, 0, 0, 0, 0, 0],\n",
    "    pctdistance = 0.9\n",
    ")\n",
    "axes.set_title('Доля общей выручки на пользователей по группам', fontsize = 12);"
   ]
  },
  {
   "attachments": {},
   "cell_type": "markdown",
   "metadata": {},
   "source": [
    "## Вывод:\n",
    "Гипотеза №2 верна, прохождение обучения положительно влияет на вероятность оплаты. \n",
    "1) Самая низкая конверсия наблюдается у группы пользователей, которые вообще не начинали обучение. Возможно, это указывает на низкую замотивированность и вовлеченность данной группы пользователей.\n",
    "2) Самая высокая конверсия у групп пользователей, которые начинали обучение 8 и 9 раз. Скорее всего это связано с их высокой заинтересованностью игрой.\n",
    "3) В целом конверсия пользователей, начинавших обучение хотя бы раз колеблется в пределах 12-15% \n",
    "4) Средняя выручка с пользователей групп, проходивших обучение существенно выше выручки пользователей, обучение не проходивших. При этом не выявляется корреляции между количеством попыток начала обучения и средней выручкой между разными группами пользователей, проходивших обучение. \n",
    "5) В общем, более 74% общей выручки приходится на группу, начинавшую обучение 1 раз. В первую очередь это связано с тем, что она более многочисленная."
   ]
  },
  {
   "attachments": {},
   "cell_type": "markdown",
   "metadata": {},
   "source": [
    "## Проверка гипотезы 3. О возможности прохождения обучения пользователями, первоначально пропустившими этот этап игры.\n",
    "Оценка вероятности начала обучения пользователем, который вместо прохождения обучения сразу перешел к выбору уровня сложности."
   ]
  },
  {
   "cell_type": "code",
   "execution_count": 29,
   "metadata": {},
   "outputs": [],
   "source": [
    "# создаем таблицу со временем выбора уровня каждого пользователя\n",
    "choosing_level = TotalEvents[TotalEvents.event_type == 'level_choice']\n",
    "choosing_level_time = choosing_level[['user_id', 'start_time']].rename(\n",
    "    columns={'start_time': 'level_choice'}\n",
    ")\n",
    "# создаем таблицу со временем всех начал обучения каждого пользователя\n",
    "started_tutorial = TotalEvents[TotalEvents.event_type == 'tutorial_start']\n",
    "started_tutorial_time = started_tutorial[['user_id', 'start_time']].rename(\n",
    "    columns={'start_time': 'tutorial_start'}\n",
    ")\n",
    "# объединяем таблицы\n",
    "time_of_two_events = choosing_level_time.merge(started_tutorial_time, how= 'inner', on = 'user_id')\n",
    "# создаем столбец с разницей во времени между выбором уровня и началом обучения\n",
    "time_of_two_events['delta'] = (time_of_two_events.level_choice-time_of_two_events.tutorial_start)/pd.Timedelta('1 hour')\n",
    "# пишем функцию, которая отмечает единицей отрицательное значение показателя разницы времени между временемначала обучения и выбора уровня\n",
    "def negative_delta(x):\n",
    "    if x < 0:\n",
    "        return 'Выбрали уровень раньше начала обучения'\n",
    "    else:\n",
    "        return 'Выбрали уровень после начала обучения'\n",
    "# добавляем столбец-определитель для пользователей, которые сперва выбрали уровень, а потом приступили к началу обучения\n",
    "time_of_two_events['level_choice_before'] = time_of_two_events['delta'].apply(negative_delta)"
   ]
  },
  {
   "cell_type": "code",
   "execution_count": 30,
   "metadata": {},
   "outputs": [],
   "source": [
    "# рассмотрим, сколько рассматриваемых действий было совершено пользователями, и сколько из них подходит по критерию выбора уровня раньше начала обучения\n",
    "events_new = time_of_two_events.user_id.count()\n",
    "user_id_events_new = time_of_two_events[time_of_two_events.level_choice_before == 'Выбрали уровень раньше начала обучения'].user_id.count()\n",
    "part1 = user_id_events_new  / events_new\n",
    "# рассмотрим количество уникальных пользователей, и количество уникальных пользователей, которые выбрали уровень раньше начала обучения\n",
    "uniqe_events_new = time_of_two_events.user_id.nunique()\n",
    "uniqe_user_id_events_new = time_of_two_events[time_of_two_events.level_choice_before == 'Выбрали уровень раньше начала обучения'].user_id.nunique()\n",
    "part2 = uniqe_user_id_events_new/uniqe_events_new"
   ]
  },
  {
   "cell_type": "code",
   "execution_count": 31,
   "metadata": {},
   "outputs": [
    {
     "name": "stdout",
     "output_type": "stream",
     "text": [
      "За рассматриваемый период пользователи начинали обучение 12686 раз, из них 2792 начинало обучение после выбора уровня, что составляет 22.01%.    8244 уникальных пользователей начинали обучение, из них 1386 (16.81%) начинало обучение, после выбора уровня.\n"
     ]
    }
   ],
   "source": [
    "print(\n",
    "    'За рассматриваемый период пользователи начинали обучение {} раз, из них {} начинало обучение после выбора уровня, что составляет {:.2%}.\\\n",
    "    {} уникальных пользователей начинали обучение, из них {} ({:.2%}) начинало обучение, после выбора уровня.'.format(\n",
    "        events_new, user_id_events_new, part1, uniqe_events_new, uniqe_user_id_events_new, part2\n",
    "    )\n",
    ")"
   ]
  },
  {
   "cell_type": "code",
   "execution_count": 32,
   "metadata": {},
   "outputs": [
    {
     "data": {
      "image/png": "[encoded data removed]",
      "text/plain": [
       "<Figure size 500x500 with 1 Axes>"
      ]
     },
     "metadata": {},
     "output_type": "display_data"
    }
   ],
   "source": [
    "# группируем пользователей по порядку выбора первым уровня сложности и старта обучения\n",
    "level_choise_table = time_of_two_events.level_choice_before.value_counts()\n",
    "#визуализация графика\n",
    "fig = plt.figure(figsize=(5, 5))\n",
    "axes = fig.add_axes([0, 0, 1, 1])\n",
    "# визуализация графика о соотношении общей выручки с разных групп пользователей\n",
    "axes.pie(\n",
    "    x = level_choise_table,\n",
    "    labels = level_choise_table.index,\n",
    "    autopct='%.1f%%',\n",
    "    pctdistance = 0.6\n",
    ")\n",
    "axes.set_title('Соотношение действий пользователей по порядку выбора начала обучения или выбора уровня сложности', fontsize = 12);\n"
   ]
  },
  {
   "attachments": {},
   "cell_type": "markdown",
   "metadata": {},
   "source": [
    "## Вывод:\n",
    "Гипотеза №3 верна, если пользователь сначала выбирает сложность обучения, то обучение он после этого чаще всего не проходит. \n",
    "Процесс взаимодействия с игрой достаточно прозрачен, так как только в 20% случаев пользователи возвращаются к обучению после того, как уже выбрали уровень сложности. 17% уникальных пользователей возвращается к обучению после того, как уже выбрало уровень сложности."
   ]
  }
 ],
 "metadata": {
  "kernelspec": {
   "display_name": "Python 3",
   "language": "python",
   "name": "python3"
  },
  "language_info": {
   "codemirror_mode": {
    "name": "ipython",
    "version": 3
   },
   "file_extension": ".py",
   "mimetype": "text/x-python",
   "name": "python",
   "nbconvert_exporter": "python",
   "pygments_lexer": "ipython3",
   "version": "3.11.4"
  },
  "orig_nbformat": 4,
  "vscode": {
   "interpreter": {
    "hash": "1874c8a57cb8afc116b918b463c635257edf6b575ab15a09af1c8488b28270ac"
   }
  }
 },
 "nbformat": 4,
 "nbformat_minor": 2
}
